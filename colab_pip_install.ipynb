{
  "nbformat": 4,
  "nbformat_minor": 0,
  "metadata": {
    "colab": {
      "provenance": [],
      "authorship_tag": "ABX9TyNnslCg4oieKDin03CF2s8i",
      "include_colab_link": true
    },
    "kernelspec": {
      "name": "python3",
      "display_name": "Python 3"
    },
    "language_info": {
      "name": "python"
    },
    "gpuClass": "standard"
  },
  "cells": [
    {
      "cell_type": "markdown",
      "metadata": {
        "id": "view-in-github",
        "colab_type": "text"
      },
      "source": [
        "<a href=\"https://colab.research.google.com/github/rafsanlab/etc/blob/main/colab_pip_install.ipynb\" target=\"_parent\"><img src=\"https://colab.research.google.com/assets/colab-badge.svg\" alt=\"Open In Colab\"/></a>"
      ]
    },
    {
      "cell_type": "markdown",
      "source": [
        "# Installing python modules permanently in Google drive"
      ],
      "metadata": {
        "id": "cp-GR97HvVvT"
      }
    },
    {
      "cell_type": "markdown",
      "source": [
        "How to pip install python modules permanently in Gdrive. \n",
        "\n",
        "Installation using pip into Gdrive is based on [Felix Ayoola](https://ayoolafelix.hashnode.dev/how-to-permanently-install-a-module-on-google-colab-ckixqrvs40su044s187y274tc). "
      ],
      "metadata": {
        "id": "JJeym_aBzoEJ"
      }
    },
    {
      "cell_type": "markdown",
      "source": [
        "## Main code"
      ],
      "metadata": {
        "id": "QU_qx0l40TwS"
      }
    },
    {
      "cell_type": "code",
      "source": [
        "import os, sys \n",
        "\n",
        "# mount drive\n",
        "from google.colab import drive \n",
        "drive.mount('/content/gdrive', force_remount=True) \n",
        "\n",
        "# symlink (mirror) targer folder in Gdrive\n",
        "# we'll pip install to this target forlder \n",
        "modules_path = '/content/modules'\n",
        "os.symlink('/content/gdrive/MyDrive/Colab Notebooks/modules', modules_path)\n",
        "sys.path.insert(0, modules_path)  # or append(nb_path)\n",
        "\n",
        "# append the target folder\n",
        "sys.path.append('/content/gdrive/MyDrive/Colab Notebooks/modules')"
      ],
      "metadata": {
        "colab": {
          "base_uri": "https://localhost:8080/"
        },
        "id": "9DpcAVdRs4hR",
        "outputId": "ccfdbec6-d943-45cc-885a-603589c396bf"
      },
      "execution_count": 1,
      "outputs": [
        {
          "output_type": "stream",
          "name": "stdout",
          "text": [
            "Mounted at /content/gdrive\n"
          ]
        }
      ]
    },
    {
      "cell_type": "code",
      "source": [
        "# pip install to the target folder\n",
        "!pip install --target=$modules_path libtiff"
      ],
      "metadata": {
        "colab": {
          "base_uri": "https://localhost:8080/"
        },
        "id": "ovNuFBYluyd4",
        "outputId": "7adec75c-c1c2-40df-95b4-40fd0cfd2e0e"
      },
      "execution_count": 2,
      "outputs": [
        {
          "output_type": "stream",
          "name": "stdout",
          "text": [
            "Looking in indexes: https://pypi.org/simple, https://us-python.pkg.dev/colab-wheels/public/simple/\n",
            "Collecting libtiff\n",
            "  Downloading libtiff-0.4.2.tar.gz (129 kB)\n",
            "\u001b[2K     \u001b[90m━━━━━━━━━━━━━━━━━━━━━━━━━━━━━━━━━━━━━━━\u001b[0m \u001b[32m130.0/130.0 KB\u001b[0m \u001b[31m4.7 MB/s\u001b[0m eta \u001b[36m0:00:00\u001b[0m\n",
            "\u001b[?25h  Preparing metadata (setup.py) ... \u001b[?25l\u001b[?25hdone\n",
            "Building wheels for collected packages: libtiff\n",
            "  Building wheel for libtiff (setup.py) ... \u001b[?25l\u001b[?25hdone\n",
            "  Created wheel for libtiff: filename=libtiff-0.4.2-cp38-cp38-linux_x86_64.whl size=302062 sha256=5199528b6762cedf70f96a1c771a89575febc437b25516136700228706266834\n",
            "  Stored in directory: /root/.cache/pip/wheels/70/ef/75/99ce530b01b6a5bef81ebed8c05bd7713ca298e21b5635dbac\n",
            "Successfully built libtiff\n",
            "Installing collected packages: libtiff\n",
            "Successfully installed libtiff-0.4.2\n"
          ]
        }
      ]
    },
    {
      "cell_type": "code",
      "source": [
        "# import modules\n",
        "from libtiff import TIFF"
      ],
      "metadata": {
        "colab": {
          "base_uri": "https://localhost:8080/"
        },
        "id": "NaQAj-wzu9pr",
        "outputId": "39cb32a8-8cae-4f20-dba0-206db9cf1018"
      },
      "execution_count": 3,
      "outputs": [
        {
          "output_type": "stream",
          "name": "stdout",
          "text": [
            "Generating '/content/modules/libtiff/tiff_h_4_1_0.py' from '/usr/include/x86_64-linux-gnu/tiff.h'\n"
          ]
        }
      ]
    },
    {
      "cell_type": "markdown",
      "source": [
        "It works!"
      ],
      "metadata": {
        "id": "0FWbq7OUw2bT"
      }
    },
    {
      "cell_type": "markdown",
      "metadata": {
        "id": "gDgNSeucHZHP"
      },
      "source": [
        "## Other installations"
      ]
    },
    {
      "cell_type": "markdown",
      "source": [
        "Modules that supported in colab (no need to install):\n",
        "* `matplotlib.pyplot`\n",
        "* `numpy`\n",
        "* `torch`\n",
        "\n",
        "Notes:\n",
        "* `torchmetrics` pip installation is simpler in every run, rather than permanently install it in drive\n",
        "* for installtion during runtime, install first then mount the target folder (otherwise the installation will goes to the target folder)"
      ],
      "metadata": {
        "id": "inaFco2OwRKB"
      }
    },
    {
      "cell_type": "code",
      "execution_count": null,
      "metadata": {
        "id": "pFyoUH43sewO"
      },
      "outputs": [],
      "source": [
        "# import to read tiff (installed)\n",
        "'''\n",
        "!pip install  --target=$modules_path libtiff\n",
        "from libtiff import TIFF\n",
        "'''"
      ]
    },
    {
      "cell_type": "code",
      "execution_count": null,
      "metadata": {
        "id": "qxxm-dA2u0RJ"
      },
      "outputs": [],
      "source": [
        "# install torch_snippets for Dataset class (not use)\n",
        "'''\n",
        "#!pip install -q torch_snippets pytorch_model_summary\n",
        "!pip install torch-snippets\n",
        "from torch_snippets import *\n",
        "'''"
      ]
    }
  ]
}